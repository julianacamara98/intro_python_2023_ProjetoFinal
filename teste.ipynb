from plotnine import *
import pandas as pd

# criar um exemplo de DataFrame com dados faltantes
df = pd.DataFrame({'col1': [1, 2, 3, 4, None, None],
                   'col2': [None, 6, 7, 8, 9, None]})

# calcular a proporção de dados faltantes
missing_data = (df.isnull().sum() / df.shape[0]) * 100

# transformar a série em um DataFrame para usar o plotnine
missing_data = pd.DataFrame({'colunas': missing_data.index, 'porcentagem': missing_data.values})

# criar o gráfico de barras com o plotnine
(ggplot(missing_data, aes(x='colunas', y='porcentagem')) +
 geom_bar(stat='identity') +
 xlab("Colunas") +
 ylab("Proporção de dados faltantes (%)") +
 ggtitle("Proporção de dados faltantes por coluna"))
